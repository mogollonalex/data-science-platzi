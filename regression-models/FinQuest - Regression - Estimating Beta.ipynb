{
 "cells": [
  {
   "cell_type": "markdown",
   "metadata": {},
   "source": [
    "$$Y_i = b_0 + b_1 X_i + \\epsilon_i$$"
   ]
  },
  {
   "cell_type": "code",
   "execution_count": 144,
   "metadata": {},
   "outputs": [],
   "source": [
    "from pandas_datareader import data"
   ]
  },
  {
   "cell_type": "code",
   "execution_count": 145,
   "metadata": {},
   "outputs": [
    {
     "data": {
      "text/html": [
       "<div>\n",
       "<style scoped>\n",
       "    .dataframe tbody tr th:only-of-type {\n",
       "        vertical-align: middle;\n",
       "    }\n",
       "\n",
       "    .dataframe tbody tr th {\n",
       "        vertical-align: top;\n",
       "    }\n",
       "\n",
       "    .dataframe thead th {\n",
       "        text-align: right;\n",
       "    }\n",
       "</style>\n",
       "<table border=\"1\" class=\"dataframe\">\n",
       "  <thead>\n",
       "    <tr style=\"text-align: right;\">\n",
       "      <th></th>\n",
       "      <th>High</th>\n",
       "      <th>Low</th>\n",
       "      <th>Open</th>\n",
       "      <th>Close</th>\n",
       "      <th>Volume</th>\n",
       "      <th>Adj Close</th>\n",
       "    </tr>\n",
       "    <tr>\n",
       "      <th>Date</th>\n",
       "      <th></th>\n",
       "      <th></th>\n",
       "      <th></th>\n",
       "      <th></th>\n",
       "      <th></th>\n",
       "      <th></th>\n",
       "    </tr>\n",
       "  </thead>\n",
       "  <tbody>\n",
       "    <tr>\n",
       "      <th>2012-01-03</th>\n",
       "      <td>58.928570</td>\n",
       "      <td>58.428570</td>\n",
       "      <td>58.485714</td>\n",
       "      <td>58.747143</td>\n",
       "      <td>75555200.0</td>\n",
       "      <td>51.269413</td>\n",
       "    </tr>\n",
       "    <tr>\n",
       "      <th>2012-01-04</th>\n",
       "      <td>59.240002</td>\n",
       "      <td>58.468571</td>\n",
       "      <td>58.571430</td>\n",
       "      <td>59.062859</td>\n",
       "      <td>65005500.0</td>\n",
       "      <td>51.544937</td>\n",
       "    </tr>\n",
       "    <tr>\n",
       "      <th>2012-01-05</th>\n",
       "      <td>59.792858</td>\n",
       "      <td>58.952858</td>\n",
       "      <td>59.278572</td>\n",
       "      <td>59.718571</td>\n",
       "      <td>67817400.0</td>\n",
       "      <td>52.117188</td>\n",
       "    </tr>\n",
       "    <tr>\n",
       "      <th>2012-01-06</th>\n",
       "      <td>60.392857</td>\n",
       "      <td>59.888573</td>\n",
       "      <td>59.967144</td>\n",
       "      <td>60.342857</td>\n",
       "      <td>79573200.0</td>\n",
       "      <td>52.662014</td>\n",
       "    </tr>\n",
       "    <tr>\n",
       "      <th>2012-01-09</th>\n",
       "      <td>61.107143</td>\n",
       "      <td>60.192856</td>\n",
       "      <td>60.785713</td>\n",
       "      <td>60.247143</td>\n",
       "      <td>98506100.0</td>\n",
       "      <td>52.578468</td>\n",
       "    </tr>\n",
       "  </tbody>\n",
       "</table>\n",
       "</div>"
      ],
      "text/plain": [
       "                 High        Low       Open      Close      Volume  Adj Close\n",
       "Date                                                                         \n",
       "2012-01-03  58.928570  58.428570  58.485714  58.747143  75555200.0  51.269413\n",
       "2012-01-04  59.240002  58.468571  58.571430  59.062859  65005500.0  51.544937\n",
       "2012-01-05  59.792858  58.952858  59.278572  59.718571  67817400.0  52.117188\n",
       "2012-01-06  60.392857  59.888573  59.967144  60.342857  79573200.0  52.662014\n",
       "2012-01-09  61.107143  60.192856  60.785713  60.247143  98506100.0  52.578468"
      ]
     },
     "execution_count": 145,
     "metadata": {},
     "output_type": "execute_result"
    }
   ],
   "source": [
    "R = data.DataReader('AAPL', 'yahoo', start='2012/01/01', end='2018/01/01')\n",
    "R.head()"
   ]
  },
  {
   "cell_type": "code",
   "execution_count": 146,
   "metadata": {},
   "outputs": [
    {
     "data": {
      "text/html": [
       "<div>\n",
       "<style scoped>\n",
       "    .dataframe tbody tr th:only-of-type {\n",
       "        vertical-align: middle;\n",
       "    }\n",
       "\n",
       "    .dataframe tbody tr th {\n",
       "        vertical-align: top;\n",
       "    }\n",
       "\n",
       "    .dataframe thead th {\n",
       "        text-align: right;\n",
       "    }\n",
       "</style>\n",
       "<table border=\"1\" class=\"dataframe\">\n",
       "  <thead>\n",
       "    <tr style=\"text-align: right;\">\n",
       "      <th></th>\n",
       "      <th>High</th>\n",
       "      <th>Low</th>\n",
       "      <th>Open</th>\n",
       "      <th>Close</th>\n",
       "      <th>Volume</th>\n",
       "      <th>Adj Close</th>\n",
       "    </tr>\n",
       "    <tr>\n",
       "      <th>Date</th>\n",
       "      <th></th>\n",
       "      <th></th>\n",
       "      <th></th>\n",
       "      <th></th>\n",
       "      <th></th>\n",
       "      <th></th>\n",
       "    </tr>\n",
       "  </thead>\n",
       "  <tbody>\n",
       "    <tr>\n",
       "      <th>2012-01-31</th>\n",
       "      <td>NaN</td>\n",
       "      <td>NaN</td>\n",
       "      <td>NaN</td>\n",
       "      <td>NaN</td>\n",
       "      <td>NaN</td>\n",
       "      <td>NaN</td>\n",
       "    </tr>\n",
       "    <tr>\n",
       "      <th>2012-02-29</th>\n",
       "      <td>0.195029</td>\n",
       "      <td>0.182378</td>\n",
       "      <td>0.188700</td>\n",
       "      <td>0.188311</td>\n",
       "      <td>1.430562</td>\n",
       "      <td>0.188311</td>\n",
       "    </tr>\n",
       "    <tr>\n",
       "      <th>2012-03-31</th>\n",
       "      <td>0.114954</td>\n",
       "      <td>0.116184</td>\n",
       "      <td>0.124104</td>\n",
       "      <td>0.105284</td>\n",
       "      <td>-0.232112</td>\n",
       "      <td>0.105284</td>\n",
       "    </tr>\n",
       "    <tr>\n",
       "      <th>2012-04-30</th>\n",
       "      <td>-0.019916</td>\n",
       "      <td>-0.024986</td>\n",
       "      <td>-0.018020</td>\n",
       "      <td>-0.025970</td>\n",
       "      <td>-0.307635</td>\n",
       "      <td>-0.025970</td>\n",
       "    </tr>\n",
       "    <tr>\n",
       "      <th>2012-05-31</th>\n",
       "      <td>-0.028242</td>\n",
       "      <td>-0.019794</td>\n",
       "      <td>-0.028538</td>\n",
       "      <td>-0.010702</td>\n",
       "      <td>-0.028589</td>\n",
       "      <td>-0.010702</td>\n",
       "    </tr>\n",
       "  </tbody>\n",
       "</table>\n",
       "</div>"
      ],
      "text/plain": [
       "                High       Low      Open     Close    Volume  Adj Close\n",
       "Date                                                                   \n",
       "2012-01-31       NaN       NaN       NaN       NaN       NaN        NaN\n",
       "2012-02-29  0.195029  0.182378  0.188700  0.188311  1.430562   0.188311\n",
       "2012-03-31  0.114954  0.116184  0.124104  0.105284 -0.232112   0.105284\n",
       "2012-04-30 -0.019916 -0.024986 -0.018020 -0.025970 -0.307635  -0.025970\n",
       "2012-05-31 -0.028242 -0.019794 -0.028538 -0.010702 -0.028589  -0.010702"
      ]
     },
     "execution_count": 146,
     "metadata": {},
     "output_type": "execute_result"
    }
   ],
   "source": [
    "R = R.resample('M').last().pct_change()\n",
    "R.head()"
   ]
  },
  {
   "cell_type": "code",
   "execution_count": 147,
   "metadata": {},
   "outputs": [
    {
     "data": {
      "text/html": [
       "<div>\n",
       "<style scoped>\n",
       "    .dataframe tbody tr th:only-of-type {\n",
       "        vertical-align: middle;\n",
       "    }\n",
       "\n",
       "    .dataframe tbody tr th {\n",
       "        vertical-align: top;\n",
       "    }\n",
       "\n",
       "    .dataframe thead th {\n",
       "        text-align: right;\n",
       "    }\n",
       "</style>\n",
       "<table border=\"1\" class=\"dataframe\">\n",
       "  <thead>\n",
       "    <tr style=\"text-align: right;\">\n",
       "      <th></th>\n",
       "      <th>High</th>\n",
       "      <th>Low</th>\n",
       "      <th>Open</th>\n",
       "      <th>Close</th>\n",
       "      <th>Volume</th>\n",
       "      <th>Adj Close</th>\n",
       "    </tr>\n",
       "    <tr>\n",
       "      <th>Date</th>\n",
       "      <th></th>\n",
       "      <th></th>\n",
       "      <th></th>\n",
       "      <th></th>\n",
       "      <th></th>\n",
       "      <th></th>\n",
       "    </tr>\n",
       "  </thead>\n",
       "  <tbody>\n",
       "    <tr>\n",
       "      <th>2012-01-31</th>\n",
       "      <td>NaN</td>\n",
       "      <td>NaN</td>\n",
       "      <td>NaN</td>\n",
       "      <td>NaN</td>\n",
       "      <td>NaN</td>\n",
       "      <td>NaN</td>\n",
       "    </tr>\n",
       "    <tr>\n",
       "      <th>2012-02-29</th>\n",
       "      <td>0.042856</td>\n",
       "      <td>0.043714</td>\n",
       "      <td>0.044666</td>\n",
       "      <td>0.040589</td>\n",
       "      <td>0.058273</td>\n",
       "      <td>0.040589</td>\n",
       "    </tr>\n",
       "    <tr>\n",
       "      <th>2012-03-31</th>\n",
       "      <td>0.023838</td>\n",
       "      <td>0.027577</td>\n",
       "      <td>0.022672</td>\n",
       "      <td>0.031332</td>\n",
       "      <td>-0.179700</td>\n",
       "      <td>0.031332</td>\n",
       "    </tr>\n",
       "    <tr>\n",
       "      <th>2012-04-30</th>\n",
       "      <td>-0.005408</td>\n",
       "      <td>-0.005295</td>\n",
       "      <td>-0.000036</td>\n",
       "      <td>-0.007497</td>\n",
       "      <td>-0.027980</td>\n",
       "      <td>-0.007497</td>\n",
       "    </tr>\n",
       "    <tr>\n",
       "      <th>2012-05-31</th>\n",
       "      <td>-0.059519</td>\n",
       "      <td>-0.068221</td>\n",
       "      <td>-0.064258</td>\n",
       "      <td>-0.062651</td>\n",
       "      <td>0.275212</td>\n",
       "      <td>-0.062651</td>\n",
       "    </tr>\n",
       "  </tbody>\n",
       "</table>\n",
       "</div>"
      ],
      "text/plain": [
       "                High       Low      Open     Close    Volume  Adj Close\n",
       "Date                                                                   \n",
       "2012-01-31       NaN       NaN       NaN       NaN       NaN        NaN\n",
       "2012-02-29  0.042856  0.043714  0.044666  0.040589  0.058273   0.040589\n",
       "2012-03-31  0.023838  0.027577  0.022672  0.031332 -0.179700   0.031332\n",
       "2012-04-30 -0.005408 -0.005295 -0.000036 -0.007497 -0.027980  -0.007497\n",
       "2012-05-31 -0.059519 -0.068221 -0.064258 -0.062651  0.275212  -0.062651"
      ]
     },
     "execution_count": 147,
     "metadata": {},
     "output_type": "execute_result"
    }
   ],
   "source": [
    "Rm = data.DataReader('^GSPC', 'yahoo', start='2012/01/01', end='2018/01/01')\n",
    "Rm = Rm.resample('M').last().pct_change()\n",
    "Rm.head()"
   ]
  },
  {
   "cell_type": "code",
   "execution_count": 148,
   "metadata": {},
   "outputs": [
    {
     "data": {
      "text/html": [
       "<div>\n",
       "<style scoped>\n",
       "    .dataframe tbody tr th:only-of-type {\n",
       "        vertical-align: middle;\n",
       "    }\n",
       "\n",
       "    .dataframe tbody tr th {\n",
       "        vertical-align: top;\n",
       "    }\n",
       "\n",
       "    .dataframe thead th {\n",
       "        text-align: right;\n",
       "    }\n",
       "</style>\n",
       "<table border=\"1\" class=\"dataframe\">\n",
       "  <thead>\n",
       "    <tr style=\"text-align: right;\">\n",
       "      <th></th>\n",
       "      <th>DGS1MO</th>\n",
       "    </tr>\n",
       "    <tr>\n",
       "      <th>DATE</th>\n",
       "      <th></th>\n",
       "    </tr>\n",
       "  </thead>\n",
       "  <tbody>\n",
       "    <tr>\n",
       "      <th>2012-01-31</th>\n",
       "      <td>0.0004</td>\n",
       "    </tr>\n",
       "    <tr>\n",
       "      <th>2012-02-29</th>\n",
       "      <td>0.0008</td>\n",
       "    </tr>\n",
       "    <tr>\n",
       "      <th>2012-03-31</th>\n",
       "      <td>0.0005</td>\n",
       "    </tr>\n",
       "    <tr>\n",
       "      <th>2012-04-30</th>\n",
       "      <td>0.0007</td>\n",
       "    </tr>\n",
       "    <tr>\n",
       "      <th>2012-05-31</th>\n",
       "      <td>0.0003</td>\n",
       "    </tr>\n",
       "  </tbody>\n",
       "</table>\n",
       "</div>"
      ],
      "text/plain": [
       "            DGS1MO\n",
       "DATE              \n",
       "2012-01-31  0.0004\n",
       "2012-02-29  0.0008\n",
       "2012-03-31  0.0005\n",
       "2012-04-30  0.0007\n",
       "2012-05-31  0.0003"
      ]
     },
     "execution_count": 148,
     "metadata": {},
     "output_type": "execute_result"
    }
   ],
   "source": [
    "Rf = data.DataReader('DGS1MO', 'fred', start='2012/01/01', end='2018/01/01')\n",
    "Rf = Rf.resample('M').last()\n",
    "Rf = Rf/100\n",
    "Rf.head()"
   ]
  },
  {
   "cell_type": "code",
   "execution_count": 149,
   "metadata": {},
   "outputs": [
    {
     "data": {
      "text/html": [
       "<div>\n",
       "<style scoped>\n",
       "    .dataframe tbody tr th:only-of-type {\n",
       "        vertical-align: middle;\n",
       "    }\n",
       "\n",
       "    .dataframe tbody tr th {\n",
       "        vertical-align: top;\n",
       "    }\n",
       "\n",
       "    .dataframe thead th {\n",
       "        text-align: right;\n",
       "    }\n",
       "</style>\n",
       "<table border=\"1\" class=\"dataframe\">\n",
       "  <thead>\n",
       "    <tr style=\"text-align: right;\">\n",
       "      <th></th>\n",
       "      <th>R</th>\n",
       "      <th>Rm</th>\n",
       "      <th>Rf</th>\n",
       "    </tr>\n",
       "    <tr>\n",
       "      <th>Date</th>\n",
       "      <th></th>\n",
       "      <th></th>\n",
       "      <th></th>\n",
       "    </tr>\n",
       "  </thead>\n",
       "  <tbody>\n",
       "    <tr>\n",
       "      <th>2012-01-31</th>\n",
       "      <td>NaN</td>\n",
       "      <td>NaN</td>\n",
       "      <td>0.0004</td>\n",
       "    </tr>\n",
       "    <tr>\n",
       "      <th>2012-02-29</th>\n",
       "      <td>0.188311</td>\n",
       "      <td>0.040589</td>\n",
       "      <td>0.0008</td>\n",
       "    </tr>\n",
       "    <tr>\n",
       "      <th>2012-03-31</th>\n",
       "      <td>0.105284</td>\n",
       "      <td>0.031332</td>\n",
       "      <td>0.0005</td>\n",
       "    </tr>\n",
       "    <tr>\n",
       "      <th>2012-04-30</th>\n",
       "      <td>-0.025970</td>\n",
       "      <td>-0.007497</td>\n",
       "      <td>0.0007</td>\n",
       "    </tr>\n",
       "    <tr>\n",
       "      <th>2012-05-31</th>\n",
       "      <td>-0.010702</td>\n",
       "      <td>-0.062651</td>\n",
       "      <td>0.0003</td>\n",
       "    </tr>\n",
       "  </tbody>\n",
       "</table>\n",
       "</div>"
      ],
      "text/plain": [
       "                   R        Rm      Rf\n",
       "Date                                  \n",
       "2012-01-31       NaN       NaN  0.0004\n",
       "2012-02-29  0.188311  0.040589  0.0008\n",
       "2012-03-31  0.105284  0.031332  0.0005\n",
       "2012-04-30 -0.025970 -0.007497  0.0007\n",
       "2012-05-31 -0.010702 -0.062651  0.0003"
      ]
     },
     "execution_count": 149,
     "metadata": {},
     "output_type": "execute_result"
    }
   ],
   "source": [
    "import pandas as pd\n",
    "df = pd.DataFrame({'R':R['Adj Close'], 'Rm':Rm['Adj Close'], 'Rf':Rf['DGS1MO']})\n",
    "df.head()"
   ]
  },
  {
   "cell_type": "code",
   "execution_count": 150,
   "metadata": {},
   "outputs": [
    {
     "data": {
      "text/html": [
       "<div>\n",
       "<style scoped>\n",
       "    .dataframe tbody tr th:only-of-type {\n",
       "        vertical-align: middle;\n",
       "    }\n",
       "\n",
       "    .dataframe tbody tr th {\n",
       "        vertical-align: top;\n",
       "    }\n",
       "\n",
       "    .dataframe thead th {\n",
       "        text-align: right;\n",
       "    }\n",
       "</style>\n",
       "<table border=\"1\" class=\"dataframe\">\n",
       "  <thead>\n",
       "    <tr style=\"text-align: right;\">\n",
       "      <th></th>\n",
       "      <th>R</th>\n",
       "      <th>Rm</th>\n",
       "      <th>Rf</th>\n",
       "      <th>R-Rf</th>\n",
       "    </tr>\n",
       "    <tr>\n",
       "      <th>Date</th>\n",
       "      <th></th>\n",
       "      <th></th>\n",
       "      <th></th>\n",
       "      <th></th>\n",
       "    </tr>\n",
       "  </thead>\n",
       "  <tbody>\n",
       "    <tr>\n",
       "      <th>2012-01-31</th>\n",
       "      <td>NaN</td>\n",
       "      <td>NaN</td>\n",
       "      <td>0.0004</td>\n",
       "      <td>NaN</td>\n",
       "    </tr>\n",
       "    <tr>\n",
       "      <th>2012-02-29</th>\n",
       "      <td>0.188311</td>\n",
       "      <td>0.040589</td>\n",
       "      <td>0.0008</td>\n",
       "      <td>0.187511</td>\n",
       "    </tr>\n",
       "    <tr>\n",
       "      <th>2012-03-31</th>\n",
       "      <td>0.105284</td>\n",
       "      <td>0.031332</td>\n",
       "      <td>0.0005</td>\n",
       "      <td>0.104784</td>\n",
       "    </tr>\n",
       "    <tr>\n",
       "      <th>2012-04-30</th>\n",
       "      <td>-0.025970</td>\n",
       "      <td>-0.007497</td>\n",
       "      <td>0.0007</td>\n",
       "      <td>-0.026670</td>\n",
       "    </tr>\n",
       "    <tr>\n",
       "      <th>2012-05-31</th>\n",
       "      <td>-0.010702</td>\n",
       "      <td>-0.062651</td>\n",
       "      <td>0.0003</td>\n",
       "      <td>-0.011002</td>\n",
       "    </tr>\n",
       "  </tbody>\n",
       "</table>\n",
       "</div>"
      ],
      "text/plain": [
       "                   R        Rm      Rf      R-Rf\n",
       "Date                                            \n",
       "2012-01-31       NaN       NaN  0.0004       NaN\n",
       "2012-02-29  0.188311  0.040589  0.0008  0.187511\n",
       "2012-03-31  0.105284  0.031332  0.0005  0.104784\n",
       "2012-04-30 -0.025970 -0.007497  0.0007 -0.026670\n",
       "2012-05-31 -0.010702 -0.062651  0.0003 -0.011002"
      ]
     },
     "execution_count": 150,
     "metadata": {},
     "output_type": "execute_result"
    }
   ],
   "source": [
    "df['R-Rf'] = df['R']-df['Rf']\n",
    "df.head()"
   ]
  },
  {
   "cell_type": "code",
   "execution_count": 151,
   "metadata": {},
   "outputs": [
    {
     "data": {
      "text/html": [
       "<div>\n",
       "<style scoped>\n",
       "    .dataframe tbody tr th:only-of-type {\n",
       "        vertical-align: middle;\n",
       "    }\n",
       "\n",
       "    .dataframe tbody tr th {\n",
       "        vertical-align: top;\n",
       "    }\n",
       "\n",
       "    .dataframe thead th {\n",
       "        text-align: right;\n",
       "    }\n",
       "</style>\n",
       "<table border=\"1\" class=\"dataframe\">\n",
       "  <thead>\n",
       "    <tr style=\"text-align: right;\">\n",
       "      <th></th>\n",
       "      <th>R</th>\n",
       "      <th>Rm</th>\n",
       "      <th>Rf</th>\n",
       "      <th>R-Rf</th>\n",
       "      <th>Rm-Rf</th>\n",
       "    </tr>\n",
       "    <tr>\n",
       "      <th>Date</th>\n",
       "      <th></th>\n",
       "      <th></th>\n",
       "      <th></th>\n",
       "      <th></th>\n",
       "      <th></th>\n",
       "    </tr>\n",
       "  </thead>\n",
       "  <tbody>\n",
       "    <tr>\n",
       "      <th>2012-01-31</th>\n",
       "      <td>NaN</td>\n",
       "      <td>NaN</td>\n",
       "      <td>0.0004</td>\n",
       "      <td>NaN</td>\n",
       "      <td>NaN</td>\n",
       "    </tr>\n",
       "    <tr>\n",
       "      <th>2012-02-29</th>\n",
       "      <td>0.188311</td>\n",
       "      <td>0.040589</td>\n",
       "      <td>0.0008</td>\n",
       "      <td>0.187511</td>\n",
       "      <td>0.039789</td>\n",
       "    </tr>\n",
       "    <tr>\n",
       "      <th>2012-03-31</th>\n",
       "      <td>0.105284</td>\n",
       "      <td>0.031332</td>\n",
       "      <td>0.0005</td>\n",
       "      <td>0.104784</td>\n",
       "      <td>0.030832</td>\n",
       "    </tr>\n",
       "    <tr>\n",
       "      <th>2012-04-30</th>\n",
       "      <td>-0.025970</td>\n",
       "      <td>-0.007497</td>\n",
       "      <td>0.0007</td>\n",
       "      <td>-0.026670</td>\n",
       "      <td>-0.008197</td>\n",
       "    </tr>\n",
       "    <tr>\n",
       "      <th>2012-05-31</th>\n",
       "      <td>-0.010702</td>\n",
       "      <td>-0.062651</td>\n",
       "      <td>0.0003</td>\n",
       "      <td>-0.011002</td>\n",
       "      <td>-0.062951</td>\n",
       "    </tr>\n",
       "  </tbody>\n",
       "</table>\n",
       "</div>"
      ],
      "text/plain": [
       "                   R        Rm      Rf      R-Rf     Rm-Rf\n",
       "Date                                                      \n",
       "2012-01-31       NaN       NaN  0.0004       NaN       NaN\n",
       "2012-02-29  0.188311  0.040589  0.0008  0.187511  0.039789\n",
       "2012-03-31  0.105284  0.031332  0.0005  0.104784  0.030832\n",
       "2012-04-30 -0.025970 -0.007497  0.0007 -0.026670 -0.008197\n",
       "2012-05-31 -0.010702 -0.062651  0.0003 -0.011002 -0.062951"
      ]
     },
     "execution_count": 151,
     "metadata": {},
     "output_type": "execute_result"
    }
   ],
   "source": [
    "df['Rm-Rf'] = df['Rm']-df['Rf']\n",
    "df.head()"
   ]
  },
  {
   "cell_type": "markdown",
   "metadata": {},
   "source": [
    "$$(R-Rf) = b_0 + b_1 (Rm-Rf) + \\epsilon$$"
   ]
  },
  {
   "cell_type": "code",
   "execution_count": 152,
   "metadata": {},
   "outputs": [],
   "source": [
    "import statsmodels.api as sm"
   ]
  },
  {
   "cell_type": "code",
   "execution_count": 153,
   "metadata": {},
   "outputs": [],
   "source": [
    "y = df['R-Rf']"
   ]
  },
  {
   "cell_type": "code",
   "execution_count": 154,
   "metadata": {},
   "outputs": [],
   "source": [
    "X = df['Rm-Rf']"
   ]
  },
  {
   "cell_type": "code",
   "execution_count": 155,
   "metadata": {},
   "outputs": [],
   "source": [
    "X = sm.add_constant(X)"
   ]
  },
  {
   "cell_type": "code",
   "execution_count": 156,
   "metadata": {},
   "outputs": [],
   "source": [
    "model = sm.OLS(y, X, missing='drop')"
   ]
  },
  {
   "cell_type": "code",
   "execution_count": 157,
   "metadata": {},
   "outputs": [],
   "source": [
    "results = model.fit()"
   ]
  },
  {
   "cell_type": "code",
   "execution_count": 158,
   "metadata": {},
   "outputs": [
    {
     "data": {
      "text/html": [
       "<table class=\"simpletable\">\n",
       "<caption>OLS Regression Results</caption>\n",
       "<tr>\n",
       "  <th>Dep. Variable:</th>          <td>R-Rf</td>       <th>  R-squared:         </th> <td>   0.236</td>\n",
       "</tr>\n",
       "<tr>\n",
       "  <th>Model:</th>                   <td>OLS</td>       <th>  Adj. R-squared:    </th> <td>   0.225</td>\n",
       "</tr>\n",
       "<tr>\n",
       "  <th>Method:</th>             <td>Least Squares</td>  <th>  F-statistic:       </th> <td>   21.31</td>\n",
       "</tr>\n",
       "<tr>\n",
       "  <th>Date:</th>             <td>Wed, 28 Aug 2019</td> <th>  Prob (F-statistic):</th> <td>1.75e-05</td>\n",
       "</tr>\n",
       "<tr>\n",
       "  <th>Time:</th>                 <td>18:07:58</td>     <th>  Log-Likelihood:    </th> <td>  96.616</td>\n",
       "</tr>\n",
       "<tr>\n",
       "  <th>No. Observations:</th>      <td>    71</td>      <th>  AIC:               </th> <td>  -189.2</td>\n",
       "</tr>\n",
       "<tr>\n",
       "  <th>Df Residuals:</th>          <td>    69</td>      <th>  BIC:               </th> <td>  -184.7</td>\n",
       "</tr>\n",
       "<tr>\n",
       "  <th>Df Model:</th>              <td>     1</td>      <th>                     </th>     <td> </td>   \n",
       "</tr>\n",
       "<tr>\n",
       "  <th>Covariance Type:</th>      <td>nonrobust</td>    <th>                     </th>     <td> </td>   \n",
       "</tr>\n",
       "</table>\n",
       "<table class=\"simpletable\">\n",
       "<tr>\n",
       "    <td></td>       <th>coef</th>     <th>std err</th>      <th>t</th>      <th>P>|t|</th>  <th>[0.025</th>    <th>0.975]</th>  \n",
       "</tr>\n",
       "<tr>\n",
       "  <th>const</th> <td>    0.0050</td> <td>    0.008</td> <td>    0.639</td> <td> 0.525</td> <td>   -0.011</td> <td>    0.021</td>\n",
       "</tr>\n",
       "<tr>\n",
       "  <th>Rm-Rf</th> <td>    1.2605</td> <td>    0.273</td> <td>    4.616</td> <td> 0.000</td> <td>    0.716</td> <td>    1.805</td>\n",
       "</tr>\n",
       "</table>\n",
       "<table class=\"simpletable\">\n",
       "<tr>\n",
       "  <th>Omnibus:</th>       <td> 6.530</td> <th>  Durbin-Watson:     </th> <td>   1.876</td>\n",
       "</tr>\n",
       "<tr>\n",
       "  <th>Prob(Omnibus):</th> <td> 0.038</td> <th>  Jarque-Bera (JB):  </th> <td>   5.902</td>\n",
       "</tr>\n",
       "<tr>\n",
       "  <th>Skew:</th>          <td>-0.558</td> <th>  Prob(JB):          </th> <td>  0.0523</td>\n",
       "</tr>\n",
       "<tr>\n",
       "  <th>Kurtosis:</th>      <td> 3.865</td> <th>  Cond. No.          </th> <td>    36.6</td>\n",
       "</tr>\n",
       "</table><br/><br/>Warnings:<br/>[1] Standard Errors assume that the covariance matrix of the errors is correctly specified."
      ],
      "text/plain": [
       "<class 'statsmodels.iolib.summary.Summary'>\n",
       "\"\"\"\n",
       "                            OLS Regression Results                            \n",
       "==============================================================================\n",
       "Dep. Variable:                   R-Rf   R-squared:                       0.236\n",
       "Model:                            OLS   Adj. R-squared:                  0.225\n",
       "Method:                 Least Squares   F-statistic:                     21.31\n",
       "Date:                Wed, 28 Aug 2019   Prob (F-statistic):           1.75e-05\n",
       "Time:                        18:07:58   Log-Likelihood:                 96.616\n",
       "No. Observations:                  71   AIC:                            -189.2\n",
       "Df Residuals:                      69   BIC:                            -184.7\n",
       "Df Model:                           1                                         \n",
       "Covariance Type:            nonrobust                                         \n",
       "==============================================================================\n",
       "                 coef    std err          t      P>|t|      [0.025      0.975]\n",
       "------------------------------------------------------------------------------\n",
       "const          0.0050      0.008      0.639      0.525      -0.011       0.021\n",
       "Rm-Rf          1.2605      0.273      4.616      0.000       0.716       1.805\n",
       "==============================================================================\n",
       "Omnibus:                        6.530   Durbin-Watson:                   1.876\n",
       "Prob(Omnibus):                  0.038   Jarque-Bera (JB):                5.902\n",
       "Skew:                          -0.558   Prob(JB):                       0.0523\n",
       "Kurtosis:                       3.865   Cond. No.                         36.6\n",
       "==============================================================================\n",
       "\n",
       "Warnings:\n",
       "[1] Standard Errors assume that the covariance matrix of the errors is correctly specified.\n",
       "\"\"\""
      ]
     },
     "execution_count": 158,
     "metadata": {},
     "output_type": "execute_result"
    }
   ],
   "source": [
    "results.summary()"
   ]
  },
  {
   "cell_type": "markdown",
   "metadata": {},
   "source": [
    "# The Standard Error of Estimate"
   ]
  },
  {
   "cell_type": "markdown",
   "metadata": {},
   "source": [
    "$$SEE = \\Bigg( \\frac{\\sum_{i=1}^n (Y_i - \\hat{b}_0-\\hat{b}_1X_i)^2}{n-2} \\Bigg)^\\frac{1}{2} = \\Bigg( \\frac{\\sum_{i=1}^n (\\hat\\epsilon_i)^2}{n-2} \\Bigg)^\\frac{1}{2}$$"
   ]
  },
  {
   "cell_type": "code",
   "execution_count": 159,
   "metadata": {},
   "outputs": [],
   "source": [
    "import matplotlib.pyplot as plt\n",
    "import numpy as np"
   ]
  },
  {
   "cell_type": "code",
   "execution_count": 160,
   "metadata": {},
   "outputs": [
    {
     "data": {
      "text/plain": [
       "[<matplotlib.lines.Line2D at 0x23aa348bf28>]"
      ]
     },
     "execution_count": 160,
     "metadata": {},
     "output_type": "execute_result"
    },
    {
     "data": {
      "image/png": "[encoded data removed]",
      "text/plain": [
       "<Figure size 432x288 with 1 Axes>"
      ]
     },
     "metadata": {
      "needs_background": "light"
     },
     "output_type": "display_data"
    }
   ],
   "source": [
    "plt.scatter(df['Rm-Rf'], df['R-Rf'])\n",
    "x_pred = np.linspace(df['Rm-Rf'].min(), df['Rm-Rf'].max(), 50)\n",
    "x_pred2 = sm.add_constant(x_pred)\n",
    "y_pred = results.predict(x_pred2)\n",
    "plt.plot(x_pred, y_pred, color='g')"
   ]
  },
  {
   "cell_type": "code",
   "execution_count": 161,
   "metadata": {},
   "outputs": [
    {
     "data": {
      "text/plain": [
       "const    0.004993\n",
       "Rm-Rf    1.260523\n",
       "dtype: float64"
      ]
     },
     "execution_count": 161,
     "metadata": {},
     "output_type": "execute_result"
    }
   ],
   "source": [
    "results.params"
   ]
  },
  {
   "cell_type": "code",
   "execution_count": 162,
   "metadata": {},
   "outputs": [
    {
     "data": {
      "text/html": [
       "<div>\n",
       "<style scoped>\n",
       "    .dataframe tbody tr th:only-of-type {\n",
       "        vertical-align: middle;\n",
       "    }\n",
       "\n",
       "    .dataframe tbody tr th {\n",
       "        vertical-align: top;\n",
       "    }\n",
       "\n",
       "    .dataframe thead th {\n",
       "        text-align: right;\n",
       "    }\n",
       "</style>\n",
       "<table border=\"1\" class=\"dataframe\">\n",
       "  <thead>\n",
       "    <tr style=\"text-align: right;\">\n",
       "      <th></th>\n",
       "      <th>R</th>\n",
       "      <th>Rm</th>\n",
       "      <th>Rf</th>\n",
       "      <th>R-Rf</th>\n",
       "      <th>Rm-Rf</th>\n",
       "      <th>Predicted</th>\n",
       "    </tr>\n",
       "    <tr>\n",
       "      <th>Date</th>\n",
       "      <th></th>\n",
       "      <th></th>\n",
       "      <th></th>\n",
       "      <th></th>\n",
       "      <th></th>\n",
       "      <th></th>\n",
       "    </tr>\n",
       "  </thead>\n",
       "  <tbody>\n",
       "    <tr>\n",
       "      <th>2012-01-31</th>\n",
       "      <td>NaN</td>\n",
       "      <td>NaN</td>\n",
       "      <td>0.0004</td>\n",
       "      <td>NaN</td>\n",
       "      <td>NaN</td>\n",
       "      <td>NaN</td>\n",
       "    </tr>\n",
       "    <tr>\n",
       "      <th>2012-02-29</th>\n",
       "      <td>0.188311</td>\n",
       "      <td>0.040589</td>\n",
       "      <td>0.0008</td>\n",
       "      <td>0.187511</td>\n",
       "      <td>0.039789</td>\n",
       "      <td>0.055149</td>\n",
       "    </tr>\n",
       "    <tr>\n",
       "      <th>2012-03-31</th>\n",
       "      <td>0.105284</td>\n",
       "      <td>0.031332</td>\n",
       "      <td>0.0005</td>\n",
       "      <td>0.104784</td>\n",
       "      <td>0.030832</td>\n",
       "      <td>0.043858</td>\n",
       "    </tr>\n",
       "    <tr>\n",
       "      <th>2012-04-30</th>\n",
       "      <td>-0.025970</td>\n",
       "      <td>-0.007497</td>\n",
       "      <td>0.0007</td>\n",
       "      <td>-0.026670</td>\n",
       "      <td>-0.008197</td>\n",
       "      <td>-0.005340</td>\n",
       "    </tr>\n",
       "    <tr>\n",
       "      <th>2012-05-31</th>\n",
       "      <td>-0.010702</td>\n",
       "      <td>-0.062651</td>\n",
       "      <td>0.0003</td>\n",
       "      <td>-0.011002</td>\n",
       "      <td>-0.062951</td>\n",
       "      <td>-0.074358</td>\n",
       "    </tr>\n",
       "  </tbody>\n",
       "</table>\n",
       "</div>"
      ],
      "text/plain": [
       "                   R        Rm      Rf      R-Rf     Rm-Rf  Predicted\n",
       "Date                                                                 \n",
       "2012-01-31       NaN       NaN  0.0004       NaN       NaN        NaN\n",
       "2012-02-29  0.188311  0.040589  0.0008  0.187511  0.039789   0.055149\n",
       "2012-03-31  0.105284  0.031332  0.0005  0.104784  0.030832   0.043858\n",
       "2012-04-30 -0.025970 -0.007497  0.0007 -0.026670 -0.008197  -0.005340\n",
       "2012-05-31 -0.010702 -0.062651  0.0003 -0.011002 -0.062951  -0.074358"
      ]
     },
     "execution_count": 162,
     "metadata": {},
     "output_type": "execute_result"
    }
   ],
   "source": [
    "df['Predicted'] = results.params[0] + results.params[1]*df['Rm-Rf']\n",
    "df.head()"
   ]
  },
  {
   "cell_type": "code",
   "execution_count": 163,
   "metadata": {},
   "outputs": [
    {
     "data": {
      "text/html": [
       "<div>\n",
       "<style scoped>\n",
       "    .dataframe tbody tr th:only-of-type {\n",
       "        vertical-align: middle;\n",
       "    }\n",
       "\n",
       "    .dataframe tbody tr th {\n",
       "        vertical-align: top;\n",
       "    }\n",
       "\n",
       "    .dataframe thead th {\n",
       "        text-align: right;\n",
       "    }\n",
       "</style>\n",
       "<table border=\"1\" class=\"dataframe\">\n",
       "  <thead>\n",
       "    <tr style=\"text-align: right;\">\n",
       "      <th></th>\n",
       "      <th>R</th>\n",
       "      <th>Rm</th>\n",
       "      <th>Rf</th>\n",
       "      <th>R-Rf</th>\n",
       "      <th>Rm-Rf</th>\n",
       "      <th>Predicted</th>\n",
       "    </tr>\n",
       "    <tr>\n",
       "      <th>Date</th>\n",
       "      <th></th>\n",
       "      <th></th>\n",
       "      <th></th>\n",
       "      <th></th>\n",
       "      <th></th>\n",
       "      <th></th>\n",
       "    </tr>\n",
       "  </thead>\n",
       "  <tbody>\n",
       "    <tr>\n",
       "      <th>2012-01-31</th>\n",
       "      <td>NaN</td>\n",
       "      <td>NaN</td>\n",
       "      <td>0.0004</td>\n",
       "      <td>NaN</td>\n",
       "      <td>NaN</td>\n",
       "      <td>NaN</td>\n",
       "    </tr>\n",
       "    <tr>\n",
       "      <th>2012-02-29</th>\n",
       "      <td>0.188311</td>\n",
       "      <td>0.040589</td>\n",
       "      <td>0.0008</td>\n",
       "      <td>0.187511</td>\n",
       "      <td>0.039789</td>\n",
       "      <td>0.055149</td>\n",
       "    </tr>\n",
       "    <tr>\n",
       "      <th>2012-03-31</th>\n",
       "      <td>0.105284</td>\n",
       "      <td>0.031332</td>\n",
       "      <td>0.0005</td>\n",
       "      <td>0.104784</td>\n",
       "      <td>0.030832</td>\n",
       "      <td>0.043858</td>\n",
       "    </tr>\n",
       "    <tr>\n",
       "      <th>2012-04-30</th>\n",
       "      <td>-0.025970</td>\n",
       "      <td>-0.007497</td>\n",
       "      <td>0.0007</td>\n",
       "      <td>-0.026670</td>\n",
       "      <td>-0.008197</td>\n",
       "      <td>-0.005340</td>\n",
       "    </tr>\n",
       "    <tr>\n",
       "      <th>2012-05-31</th>\n",
       "      <td>-0.010702</td>\n",
       "      <td>-0.062651</td>\n",
       "      <td>0.0003</td>\n",
       "      <td>-0.011002</td>\n",
       "      <td>-0.062951</td>\n",
       "      <td>-0.074358</td>\n",
       "    </tr>\n",
       "  </tbody>\n",
       "</table>\n",
       "</div>"
      ],
      "text/plain": [
       "                   R        Rm      Rf      R-Rf     Rm-Rf  Predicted\n",
       "Date                                                                 \n",
       "2012-01-31       NaN       NaN  0.0004       NaN       NaN        NaN\n",
       "2012-02-29  0.188311  0.040589  0.0008  0.187511  0.039789   0.055149\n",
       "2012-03-31  0.105284  0.031332  0.0005  0.104784  0.030832   0.043858\n",
       "2012-04-30 -0.025970 -0.007497  0.0007 -0.026670 -0.008197  -0.005340\n",
       "2012-05-31 -0.010702 -0.062651  0.0003 -0.011002 -0.062951  -0.074358"
      ]
     },
     "execution_count": 163,
     "metadata": {},
     "output_type": "execute_result"
    }
   ],
   "source": [
    "df['Predicted'] = results.predict(X)\n",
    "df.head()"
   ]
  },
  {
   "cell_type": "code",
   "execution_count": 164,
   "metadata": {},
   "outputs": [
    {
     "data": {
      "text/html": [
       "<div>\n",
       "<style scoped>\n",
       "    .dataframe tbody tr th:only-of-type {\n",
       "        vertical-align: middle;\n",
       "    }\n",
       "\n",
       "    .dataframe tbody tr th {\n",
       "        vertical-align: top;\n",
       "    }\n",
       "\n",
       "    .dataframe thead th {\n",
       "        text-align: right;\n",
       "    }\n",
       "</style>\n",
       "<table border=\"1\" class=\"dataframe\">\n",
       "  <thead>\n",
       "    <tr style=\"text-align: right;\">\n",
       "      <th></th>\n",
       "      <th>R</th>\n",
       "      <th>Rm</th>\n",
       "      <th>Rf</th>\n",
       "      <th>R-Rf</th>\n",
       "      <th>Rm-Rf</th>\n",
       "      <th>Predicted</th>\n",
       "      <th>RegressionResidual</th>\n",
       "    </tr>\n",
       "    <tr>\n",
       "      <th>Date</th>\n",
       "      <th></th>\n",
       "      <th></th>\n",
       "      <th></th>\n",
       "      <th></th>\n",
       "      <th></th>\n",
       "      <th></th>\n",
       "      <th></th>\n",
       "    </tr>\n",
       "  </thead>\n",
       "  <tbody>\n",
       "    <tr>\n",
       "      <th>2012-01-31</th>\n",
       "      <td>NaN</td>\n",
       "      <td>NaN</td>\n",
       "      <td>0.0004</td>\n",
       "      <td>NaN</td>\n",
       "      <td>NaN</td>\n",
       "      <td>NaN</td>\n",
       "      <td>NaN</td>\n",
       "    </tr>\n",
       "    <tr>\n",
       "      <th>2012-02-29</th>\n",
       "      <td>0.188311</td>\n",
       "      <td>0.040589</td>\n",
       "      <td>0.0008</td>\n",
       "      <td>0.187511</td>\n",
       "      <td>0.039789</td>\n",
       "      <td>0.055149</td>\n",
       "      <td>0.132362</td>\n",
       "    </tr>\n",
       "    <tr>\n",
       "      <th>2012-03-31</th>\n",
       "      <td>0.105284</td>\n",
       "      <td>0.031332</td>\n",
       "      <td>0.0005</td>\n",
       "      <td>0.104784</td>\n",
       "      <td>0.030832</td>\n",
       "      <td>0.043858</td>\n",
       "      <td>0.060926</td>\n",
       "    </tr>\n",
       "    <tr>\n",
       "      <th>2012-04-30</th>\n",
       "      <td>-0.025970</td>\n",
       "      <td>-0.007497</td>\n",
       "      <td>0.0007</td>\n",
       "      <td>-0.026670</td>\n",
       "      <td>-0.008197</td>\n",
       "      <td>-0.005340</td>\n",
       "      <td>-0.021330</td>\n",
       "    </tr>\n",
       "    <tr>\n",
       "      <th>2012-05-31</th>\n",
       "      <td>-0.010702</td>\n",
       "      <td>-0.062651</td>\n",
       "      <td>0.0003</td>\n",
       "      <td>-0.011002</td>\n",
       "      <td>-0.062951</td>\n",
       "      <td>-0.074358</td>\n",
       "      <td>0.063355</td>\n",
       "    </tr>\n",
       "  </tbody>\n",
       "</table>\n",
       "</div>"
      ],
      "text/plain": [
       "                   R        Rm      Rf      R-Rf     Rm-Rf  Predicted  \\\n",
       "Date                                                                    \n",
       "2012-01-31       NaN       NaN  0.0004       NaN       NaN        NaN   \n",
       "2012-02-29  0.188311  0.040589  0.0008  0.187511  0.039789   0.055149   \n",
       "2012-03-31  0.105284  0.031332  0.0005  0.104784  0.030832   0.043858   \n",
       "2012-04-30 -0.025970 -0.007497  0.0007 -0.026670 -0.008197  -0.005340   \n",
       "2012-05-31 -0.010702 -0.062651  0.0003 -0.011002 -0.062951  -0.074358   \n",
       "\n",
       "            RegressionResidual  \n",
       "Date                            \n",
       "2012-01-31                 NaN  \n",
       "2012-02-29            0.132362  \n",
       "2012-03-31            0.060926  \n",
       "2012-04-30           -0.021330  \n",
       "2012-05-31            0.063355  "
      ]
     },
     "execution_count": 164,
     "metadata": {},
     "output_type": "execute_result"
    }
   ],
   "source": [
    "df['RegressionResidual'] = df['R-Rf']-df['Predicted']\n",
    "df.head()"
   ]
  },
  {
   "cell_type": "code",
   "execution_count": 165,
   "metadata": {},
   "outputs": [
    {
     "data": {
      "text/html": [
       "<div>\n",
       "<style scoped>\n",
       "    .dataframe tbody tr th:only-of-type {\n",
       "        vertical-align: middle;\n",
       "    }\n",
       "\n",
       "    .dataframe tbody tr th {\n",
       "        vertical-align: top;\n",
       "    }\n",
       "\n",
       "    .dataframe thead th {\n",
       "        text-align: right;\n",
       "    }\n",
       "</style>\n",
       "<table border=\"1\" class=\"dataframe\">\n",
       "  <thead>\n",
       "    <tr style=\"text-align: right;\">\n",
       "      <th></th>\n",
       "      <th>R</th>\n",
       "      <th>Rm</th>\n",
       "      <th>Rf</th>\n",
       "      <th>R-Rf</th>\n",
       "      <th>Rm-Rf</th>\n",
       "      <th>Predicted</th>\n",
       "      <th>RegressionResidual</th>\n",
       "    </tr>\n",
       "    <tr>\n",
       "      <th>Date</th>\n",
       "      <th></th>\n",
       "      <th></th>\n",
       "      <th></th>\n",
       "      <th></th>\n",
       "      <th></th>\n",
       "      <th></th>\n",
       "      <th></th>\n",
       "    </tr>\n",
       "  </thead>\n",
       "  <tbody>\n",
       "    <tr>\n",
       "      <th>2012-01-31</th>\n",
       "      <td>NaN</td>\n",
       "      <td>NaN</td>\n",
       "      <td>0.0004</td>\n",
       "      <td>NaN</td>\n",
       "      <td>NaN</td>\n",
       "      <td>NaN</td>\n",
       "      <td>NaN</td>\n",
       "    </tr>\n",
       "    <tr>\n",
       "      <th>2012-02-29</th>\n",
       "      <td>0.188311</td>\n",
       "      <td>0.040589</td>\n",
       "      <td>0.0008</td>\n",
       "      <td>0.187511</td>\n",
       "      <td>0.039789</td>\n",
       "      <td>0.055149</td>\n",
       "      <td>0.132362</td>\n",
       "    </tr>\n",
       "    <tr>\n",
       "      <th>2012-03-31</th>\n",
       "      <td>0.105284</td>\n",
       "      <td>0.031332</td>\n",
       "      <td>0.0005</td>\n",
       "      <td>0.104784</td>\n",
       "      <td>0.030832</td>\n",
       "      <td>0.043858</td>\n",
       "      <td>0.060926</td>\n",
       "    </tr>\n",
       "    <tr>\n",
       "      <th>2012-04-30</th>\n",
       "      <td>-0.025970</td>\n",
       "      <td>-0.007497</td>\n",
       "      <td>0.0007</td>\n",
       "      <td>-0.026670</td>\n",
       "      <td>-0.008197</td>\n",
       "      <td>-0.005340</td>\n",
       "      <td>-0.021330</td>\n",
       "    </tr>\n",
       "    <tr>\n",
       "      <th>2012-05-31</th>\n",
       "      <td>-0.010702</td>\n",
       "      <td>-0.062651</td>\n",
       "      <td>0.0003</td>\n",
       "      <td>-0.011002</td>\n",
       "      <td>-0.062951</td>\n",
       "      <td>-0.074358</td>\n",
       "      <td>0.063355</td>\n",
       "    </tr>\n",
       "  </tbody>\n",
       "</table>\n",
       "</div>"
      ],
      "text/plain": [
       "                   R        Rm      Rf      R-Rf     Rm-Rf  Predicted  \\\n",
       "Date                                                                    \n",
       "2012-01-31       NaN       NaN  0.0004       NaN       NaN        NaN   \n",
       "2012-02-29  0.188311  0.040589  0.0008  0.187511  0.039789   0.055149   \n",
       "2012-03-31  0.105284  0.031332  0.0005  0.104784  0.030832   0.043858   \n",
       "2012-04-30 -0.025970 -0.007497  0.0007 -0.026670 -0.008197  -0.005340   \n",
       "2012-05-31 -0.010702 -0.062651  0.0003 -0.011002 -0.062951  -0.074358   \n",
       "\n",
       "            RegressionResidual  \n",
       "Date                            \n",
       "2012-01-31                 NaN  \n",
       "2012-02-29            0.132362  \n",
       "2012-03-31            0.060926  \n",
       "2012-04-30           -0.021330  \n",
       "2012-05-31            0.063355  "
      ]
     },
     "execution_count": 165,
     "metadata": {},
     "output_type": "execute_result"
    }
   ],
   "source": [
    "df['RegressionResidual'] = results.resid\n",
    "df.head()"
   ]
  },
  {
   "cell_type": "code",
   "execution_count": 166,
   "metadata": {},
   "outputs": [
    {
     "data": {
      "text/html": [
       "<div>\n",
       "<style scoped>\n",
       "    .dataframe tbody tr th:only-of-type {\n",
       "        vertical-align: middle;\n",
       "    }\n",
       "\n",
       "    .dataframe tbody tr th {\n",
       "        vertical-align: top;\n",
       "    }\n",
       "\n",
       "    .dataframe thead th {\n",
       "        text-align: right;\n",
       "    }\n",
       "</style>\n",
       "<table border=\"1\" class=\"dataframe\">\n",
       "  <thead>\n",
       "    <tr style=\"text-align: right;\">\n",
       "      <th></th>\n",
       "      <th>R</th>\n",
       "      <th>Rm</th>\n",
       "      <th>Rf</th>\n",
       "      <th>R-Rf</th>\n",
       "      <th>Rm-Rf</th>\n",
       "      <th>Predicted</th>\n",
       "      <th>RegressionResidual</th>\n",
       "      <th>SquaredResiduals</th>\n",
       "    </tr>\n",
       "    <tr>\n",
       "      <th>Date</th>\n",
       "      <th></th>\n",
       "      <th></th>\n",
       "      <th></th>\n",
       "      <th></th>\n",
       "      <th></th>\n",
       "      <th></th>\n",
       "      <th></th>\n",
       "      <th></th>\n",
       "    </tr>\n",
       "  </thead>\n",
       "  <tbody>\n",
       "    <tr>\n",
       "      <th>2012-01-31</th>\n",
       "      <td>NaN</td>\n",
       "      <td>NaN</td>\n",
       "      <td>0.0004</td>\n",
       "      <td>NaN</td>\n",
       "      <td>NaN</td>\n",
       "      <td>NaN</td>\n",
       "      <td>NaN</td>\n",
       "      <td>NaN</td>\n",
       "    </tr>\n",
       "    <tr>\n",
       "      <th>2012-02-29</th>\n",
       "      <td>0.188311</td>\n",
       "      <td>0.040589</td>\n",
       "      <td>0.0008</td>\n",
       "      <td>0.187511</td>\n",
       "      <td>0.039789</td>\n",
       "      <td>0.055149</td>\n",
       "      <td>0.132362</td>\n",
       "      <td>0.017520</td>\n",
       "    </tr>\n",
       "    <tr>\n",
       "      <th>2012-03-31</th>\n",
       "      <td>0.105284</td>\n",
       "      <td>0.031332</td>\n",
       "      <td>0.0005</td>\n",
       "      <td>0.104784</td>\n",
       "      <td>0.030832</td>\n",
       "      <td>0.043858</td>\n",
       "      <td>0.060926</td>\n",
       "      <td>0.003712</td>\n",
       "    </tr>\n",
       "    <tr>\n",
       "      <th>2012-04-30</th>\n",
       "      <td>-0.025970</td>\n",
       "      <td>-0.007497</td>\n",
       "      <td>0.0007</td>\n",
       "      <td>-0.026670</td>\n",
       "      <td>-0.008197</td>\n",
       "      <td>-0.005340</td>\n",
       "      <td>-0.021330</td>\n",
       "      <td>0.000455</td>\n",
       "    </tr>\n",
       "    <tr>\n",
       "      <th>2012-05-31</th>\n",
       "      <td>-0.010702</td>\n",
       "      <td>-0.062651</td>\n",
       "      <td>0.0003</td>\n",
       "      <td>-0.011002</td>\n",
       "      <td>-0.062951</td>\n",
       "      <td>-0.074358</td>\n",
       "      <td>0.063355</td>\n",
       "      <td>0.004014</td>\n",
       "    </tr>\n",
       "  </tbody>\n",
       "</table>\n",
       "</div>"
      ],
      "text/plain": [
       "                   R        Rm      Rf      R-Rf     Rm-Rf  Predicted  \\\n",
       "Date                                                                    \n",
       "2012-01-31       NaN       NaN  0.0004       NaN       NaN        NaN   \n",
       "2012-02-29  0.188311  0.040589  0.0008  0.187511  0.039789   0.055149   \n",
       "2012-03-31  0.105284  0.031332  0.0005  0.104784  0.030832   0.043858   \n",
       "2012-04-30 -0.025970 -0.007497  0.0007 -0.026670 -0.008197  -0.005340   \n",
       "2012-05-31 -0.010702 -0.062651  0.0003 -0.011002 -0.062951  -0.074358   \n",
       "\n",
       "            RegressionResidual  SquaredResiduals  \n",
       "Date                                              \n",
       "2012-01-31                 NaN               NaN  \n",
       "2012-02-29            0.132362          0.017520  \n",
       "2012-03-31            0.060926          0.003712  \n",
       "2012-04-30           -0.021330          0.000455  \n",
       "2012-05-31            0.063355          0.004014  "
      ]
     },
     "execution_count": 166,
     "metadata": {},
     "output_type": "execute_result"
    }
   ],
   "source": [
    "df['SquaredResiduals'] = df['RegressionResidual']**2\n",
    "df.head()"
   ]
  },
  {
   "cell_type": "code",
   "execution_count": 167,
   "metadata": {},
   "outputs": [
    {
     "data": {
      "text/plain": [
       "0.06294792572368546"
      ]
     },
     "execution_count": 167,
     "metadata": {},
     "output_type": "execute_result"
    }
   ],
   "source": [
    "np.sqrt(df['SquaredResiduals'].sum()/(df['SquaredResiduals'].count()-2))"
   ]
  },
  {
   "cell_type": "code",
   "execution_count": 168,
   "metadata": {},
   "outputs": [
    {
     "data": {
      "text/plain": [
       "0.06294792572368546"
      ]
     },
     "execution_count": 168,
     "metadata": {},
     "output_type": "execute_result"
    }
   ],
   "source": [
    "np.sqrt(results.scale)"
   ]
  },
  {
   "cell_type": "markdown",
   "metadata": {},
   "source": [
    "# The Coefficient of Determination"
   ]
  },
  {
   "cell_type": "markdown",
   "metadata": {},
   "source": [
    "$$Total \\ variation = \\sum_{i=1}^n(Y_i - \\bar Y_i)^2$$"
   ]
  },
  {
   "cell_type": "markdown",
   "metadata": {},
   "source": [
    "$$Unexplained \\ variation = \\sum_{i=1}^n(Y_i - \\hat Y_i)^2$$"
   ]
  },
  {
   "cell_type": "markdown",
   "metadata": {},
   "source": [
    "$$ Total \\ variation = Unexplained \\ variation + Explained \\ variation $$"
   ]
  },
  {
   "cell_type": "markdown",
   "metadata": {},
   "source": [
    "$$R^2 = \\frac{Total \\ variation-Unexplained \\ variation}{Total \\ variation}$$"
   ]
  },
  {
   "cell_type": "code",
   "execution_count": 169,
   "metadata": {},
   "outputs": [
    {
     "data": {
      "text/html": [
       "<div>\n",
       "<style scoped>\n",
       "    .dataframe tbody tr th:only-of-type {\n",
       "        vertical-align: middle;\n",
       "    }\n",
       "\n",
       "    .dataframe tbody tr th {\n",
       "        vertical-align: top;\n",
       "    }\n",
       "\n",
       "    .dataframe thead th {\n",
       "        text-align: right;\n",
       "    }\n",
       "</style>\n",
       "<table border=\"1\" class=\"dataframe\">\n",
       "  <thead>\n",
       "    <tr style=\"text-align: right;\">\n",
       "      <th></th>\n",
       "      <th>R</th>\n",
       "      <th>Rm</th>\n",
       "      <th>Rf</th>\n",
       "      <th>R-Rf</th>\n",
       "      <th>Rm-Rf</th>\n",
       "      <th>Predicted</th>\n",
       "      <th>RegressionResidual</th>\n",
       "      <th>SquaredResiduals</th>\n",
       "    </tr>\n",
       "    <tr>\n",
       "      <th>Date</th>\n",
       "      <th></th>\n",
       "      <th></th>\n",
       "      <th></th>\n",
       "      <th></th>\n",
       "      <th></th>\n",
       "      <th></th>\n",
       "      <th></th>\n",
       "      <th></th>\n",
       "    </tr>\n",
       "  </thead>\n",
       "  <tbody>\n",
       "    <tr>\n",
       "      <th>2012-01-31</th>\n",
       "      <td>NaN</td>\n",
       "      <td>NaN</td>\n",
       "      <td>0.0004</td>\n",
       "      <td>NaN</td>\n",
       "      <td>NaN</td>\n",
       "      <td>NaN</td>\n",
       "      <td>NaN</td>\n",
       "      <td>NaN</td>\n",
       "    </tr>\n",
       "    <tr>\n",
       "      <th>2012-02-29</th>\n",
       "      <td>0.188311</td>\n",
       "      <td>0.040589</td>\n",
       "      <td>0.0008</td>\n",
       "      <td>0.187511</td>\n",
       "      <td>0.039789</td>\n",
       "      <td>0.055149</td>\n",
       "      <td>0.132362</td>\n",
       "      <td>0.017520</td>\n",
       "    </tr>\n",
       "    <tr>\n",
       "      <th>2012-03-31</th>\n",
       "      <td>0.105284</td>\n",
       "      <td>0.031332</td>\n",
       "      <td>0.0005</td>\n",
       "      <td>0.104784</td>\n",
       "      <td>0.030832</td>\n",
       "      <td>0.043858</td>\n",
       "      <td>0.060926</td>\n",
       "      <td>0.003712</td>\n",
       "    </tr>\n",
       "    <tr>\n",
       "      <th>2012-04-30</th>\n",
       "      <td>-0.025970</td>\n",
       "      <td>-0.007497</td>\n",
       "      <td>0.0007</td>\n",
       "      <td>-0.026670</td>\n",
       "      <td>-0.008197</td>\n",
       "      <td>-0.005340</td>\n",
       "      <td>-0.021330</td>\n",
       "      <td>0.000455</td>\n",
       "    </tr>\n",
       "    <tr>\n",
       "      <th>2012-05-31</th>\n",
       "      <td>-0.010702</td>\n",
       "      <td>-0.062651</td>\n",
       "      <td>0.0003</td>\n",
       "      <td>-0.011002</td>\n",
       "      <td>-0.062951</td>\n",
       "      <td>-0.074358</td>\n",
       "      <td>0.063355</td>\n",
       "      <td>0.004014</td>\n",
       "    </tr>\n",
       "  </tbody>\n",
       "</table>\n",
       "</div>"
      ],
      "text/plain": [
       "                   R        Rm      Rf      R-Rf     Rm-Rf  Predicted  \\\n",
       "Date                                                                    \n",
       "2012-01-31       NaN       NaN  0.0004       NaN       NaN        NaN   \n",
       "2012-02-29  0.188311  0.040589  0.0008  0.187511  0.039789   0.055149   \n",
       "2012-03-31  0.105284  0.031332  0.0005  0.104784  0.030832   0.043858   \n",
       "2012-04-30 -0.025970 -0.007497  0.0007 -0.026670 -0.008197  -0.005340   \n",
       "2012-05-31 -0.010702 -0.062651  0.0003 -0.011002 -0.062951  -0.074358   \n",
       "\n",
       "            RegressionResidual  SquaredResiduals  \n",
       "Date                                              \n",
       "2012-01-31                 NaN               NaN  \n",
       "2012-02-29            0.132362          0.017520  \n",
       "2012-03-31            0.060926          0.003712  \n",
       "2012-04-30           -0.021330          0.000455  \n",
       "2012-05-31            0.063355          0.004014  "
      ]
     },
     "execution_count": 169,
     "metadata": {},
     "output_type": "execute_result"
    }
   ],
   "source": [
    "df.head()"
   ]
  },
  {
   "cell_type": "code",
   "execution_count": 170,
   "metadata": {},
   "outputs": [
    {
     "data": {
      "text/plain": [
       "0.015477447621917982"
      ]
     },
     "execution_count": 170,
     "metadata": {},
     "output_type": "execute_result"
    }
   ],
   "source": [
    "mean = df['R-Rf'].mean()\n",
    "mean"
   ]
  },
  {
   "cell_type": "code",
   "execution_count": 171,
   "metadata": {},
   "outputs": [],
   "source": [
    "df['DeviationFromMean'] = df['R-Rf']-mean"
   ]
  },
  {
   "cell_type": "code",
   "execution_count": 172,
   "metadata": {},
   "outputs": [
    {
     "data": {
      "text/html": [
       "<div>\n",
       "<style scoped>\n",
       "    .dataframe tbody tr th:only-of-type {\n",
       "        vertical-align: middle;\n",
       "    }\n",
       "\n",
       "    .dataframe tbody tr th {\n",
       "        vertical-align: top;\n",
       "    }\n",
       "\n",
       "    .dataframe thead th {\n",
       "        text-align: right;\n",
       "    }\n",
       "</style>\n",
       "<table border=\"1\" class=\"dataframe\">\n",
       "  <thead>\n",
       "    <tr style=\"text-align: right;\">\n",
       "      <th></th>\n",
       "      <th>R</th>\n",
       "      <th>Rm</th>\n",
       "      <th>Rf</th>\n",
       "      <th>R-Rf</th>\n",
       "      <th>Rm-Rf</th>\n",
       "      <th>Predicted</th>\n",
       "      <th>RegressionResidual</th>\n",
       "      <th>SquaredResiduals</th>\n",
       "      <th>DeviationFromMean</th>\n",
       "    </tr>\n",
       "    <tr>\n",
       "      <th>Date</th>\n",
       "      <th></th>\n",
       "      <th></th>\n",
       "      <th></th>\n",
       "      <th></th>\n",
       "      <th></th>\n",
       "      <th></th>\n",
       "      <th></th>\n",
       "      <th></th>\n",
       "      <th></th>\n",
       "    </tr>\n",
       "  </thead>\n",
       "  <tbody>\n",
       "    <tr>\n",
       "      <th>2012-01-31</th>\n",
       "      <td>NaN</td>\n",
       "      <td>NaN</td>\n",
       "      <td>0.0004</td>\n",
       "      <td>NaN</td>\n",
       "      <td>NaN</td>\n",
       "      <td>NaN</td>\n",
       "      <td>NaN</td>\n",
       "      <td>NaN</td>\n",
       "      <td>NaN</td>\n",
       "    </tr>\n",
       "    <tr>\n",
       "      <th>2012-02-29</th>\n",
       "      <td>0.188311</td>\n",
       "      <td>0.040589</td>\n",
       "      <td>0.0008</td>\n",
       "      <td>0.187511</td>\n",
       "      <td>0.039789</td>\n",
       "      <td>0.055149</td>\n",
       "      <td>0.132362</td>\n",
       "      <td>0.017520</td>\n",
       "      <td>0.172034</td>\n",
       "    </tr>\n",
       "    <tr>\n",
       "      <th>2012-03-31</th>\n",
       "      <td>0.105284</td>\n",
       "      <td>0.031332</td>\n",
       "      <td>0.0005</td>\n",
       "      <td>0.104784</td>\n",
       "      <td>0.030832</td>\n",
       "      <td>0.043858</td>\n",
       "      <td>0.060926</td>\n",
       "      <td>0.003712</td>\n",
       "      <td>0.089306</td>\n",
       "    </tr>\n",
       "    <tr>\n",
       "      <th>2012-04-30</th>\n",
       "      <td>-0.025970</td>\n",
       "      <td>-0.007497</td>\n",
       "      <td>0.0007</td>\n",
       "      <td>-0.026670</td>\n",
       "      <td>-0.008197</td>\n",
       "      <td>-0.005340</td>\n",
       "      <td>-0.021330</td>\n",
       "      <td>0.000455</td>\n",
       "      <td>-0.042147</td>\n",
       "    </tr>\n",
       "    <tr>\n",
       "      <th>2012-05-31</th>\n",
       "      <td>-0.010702</td>\n",
       "      <td>-0.062651</td>\n",
       "      <td>0.0003</td>\n",
       "      <td>-0.011002</td>\n",
       "      <td>-0.062951</td>\n",
       "      <td>-0.074358</td>\n",
       "      <td>0.063355</td>\n",
       "      <td>0.004014</td>\n",
       "      <td>-0.026480</td>\n",
       "    </tr>\n",
       "  </tbody>\n",
       "</table>\n",
       "</div>"
      ],
      "text/plain": [
       "                   R        Rm      Rf      R-Rf     Rm-Rf  Predicted  \\\n",
       "Date                                                                    \n",
       "2012-01-31       NaN       NaN  0.0004       NaN       NaN        NaN   \n",
       "2012-02-29  0.188311  0.040589  0.0008  0.187511  0.039789   0.055149   \n",
       "2012-03-31  0.105284  0.031332  0.0005  0.104784  0.030832   0.043858   \n",
       "2012-04-30 -0.025970 -0.007497  0.0007 -0.026670 -0.008197  -0.005340   \n",
       "2012-05-31 -0.010702 -0.062651  0.0003 -0.011002 -0.062951  -0.074358   \n",
       "\n",
       "            RegressionResidual  SquaredResiduals  DeviationFromMean  \n",
       "Date                                                                 \n",
       "2012-01-31                 NaN               NaN                NaN  \n",
       "2012-02-29            0.132362          0.017520           0.172034  \n",
       "2012-03-31            0.060926          0.003712           0.089306  \n",
       "2012-04-30           -0.021330          0.000455          -0.042147  \n",
       "2012-05-31            0.063355          0.004014          -0.026480  "
      ]
     },
     "execution_count": 172,
     "metadata": {},
     "output_type": "execute_result"
    }
   ],
   "source": [
    "df.head()"
   ]
  },
  {
   "cell_type": "code",
   "execution_count": 173,
   "metadata": {},
   "outputs": [],
   "source": [
    "df['SquaredDeviation'] = df['DeviationFromMean']**2"
   ]
  },
  {
   "cell_type": "code",
   "execution_count": 174,
   "metadata": {},
   "outputs": [
    {
     "data": {
      "text/html": [
       "<div>\n",
       "<style scoped>\n",
       "    .dataframe tbody tr th:only-of-type {\n",
       "        vertical-align: middle;\n",
       "    }\n",
       "\n",
       "    .dataframe tbody tr th {\n",
       "        vertical-align: top;\n",
       "    }\n",
       "\n",
       "    .dataframe thead th {\n",
       "        text-align: right;\n",
       "    }\n",
       "</style>\n",
       "<table border=\"1\" class=\"dataframe\">\n",
       "  <thead>\n",
       "    <tr style=\"text-align: right;\">\n",
       "      <th></th>\n",
       "      <th>R</th>\n",
       "      <th>Rm</th>\n",
       "      <th>Rf</th>\n",
       "      <th>R-Rf</th>\n",
       "      <th>Rm-Rf</th>\n",
       "      <th>Predicted</th>\n",
       "      <th>RegressionResidual</th>\n",
       "      <th>SquaredResiduals</th>\n",
       "      <th>DeviationFromMean</th>\n",
       "      <th>SquaredDeviation</th>\n",
       "    </tr>\n",
       "    <tr>\n",
       "      <th>Date</th>\n",
       "      <th></th>\n",
       "      <th></th>\n",
       "      <th></th>\n",
       "      <th></th>\n",
       "      <th></th>\n",
       "      <th></th>\n",
       "      <th></th>\n",
       "      <th></th>\n",
       "      <th></th>\n",
       "      <th></th>\n",
       "    </tr>\n",
       "  </thead>\n",
       "  <tbody>\n",
       "    <tr>\n",
       "      <th>2012-01-31</th>\n",
       "      <td>NaN</td>\n",
       "      <td>NaN</td>\n",
       "      <td>0.0004</td>\n",
       "      <td>NaN</td>\n",
       "      <td>NaN</td>\n",
       "      <td>NaN</td>\n",
       "      <td>NaN</td>\n",
       "      <td>NaN</td>\n",
       "      <td>NaN</td>\n",
       "      <td>NaN</td>\n",
       "    </tr>\n",
       "    <tr>\n",
       "      <th>2012-02-29</th>\n",
       "      <td>0.188311</td>\n",
       "      <td>0.040589</td>\n",
       "      <td>0.0008</td>\n",
       "      <td>0.187511</td>\n",
       "      <td>0.039789</td>\n",
       "      <td>0.055149</td>\n",
       "      <td>0.132362</td>\n",
       "      <td>0.017520</td>\n",
       "      <td>0.172034</td>\n",
       "      <td>0.029596</td>\n",
       "    </tr>\n",
       "    <tr>\n",
       "      <th>2012-03-31</th>\n",
       "      <td>0.105284</td>\n",
       "      <td>0.031332</td>\n",
       "      <td>0.0005</td>\n",
       "      <td>0.104784</td>\n",
       "      <td>0.030832</td>\n",
       "      <td>0.043858</td>\n",
       "      <td>0.060926</td>\n",
       "      <td>0.003712</td>\n",
       "      <td>0.089306</td>\n",
       "      <td>0.007976</td>\n",
       "    </tr>\n",
       "    <tr>\n",
       "      <th>2012-04-30</th>\n",
       "      <td>-0.025970</td>\n",
       "      <td>-0.007497</td>\n",
       "      <td>0.0007</td>\n",
       "      <td>-0.026670</td>\n",
       "      <td>-0.008197</td>\n",
       "      <td>-0.005340</td>\n",
       "      <td>-0.021330</td>\n",
       "      <td>0.000455</td>\n",
       "      <td>-0.042147</td>\n",
       "      <td>0.001776</td>\n",
       "    </tr>\n",
       "    <tr>\n",
       "      <th>2012-05-31</th>\n",
       "      <td>-0.010702</td>\n",
       "      <td>-0.062651</td>\n",
       "      <td>0.0003</td>\n",
       "      <td>-0.011002</td>\n",
       "      <td>-0.062951</td>\n",
       "      <td>-0.074358</td>\n",
       "      <td>0.063355</td>\n",
       "      <td>0.004014</td>\n",
       "      <td>-0.026480</td>\n",
       "      <td>0.000701</td>\n",
       "    </tr>\n",
       "  </tbody>\n",
       "</table>\n",
       "</div>"
      ],
      "text/plain": [
       "                   R        Rm      Rf      R-Rf     Rm-Rf  Predicted  \\\n",
       "Date                                                                    \n",
       "2012-01-31       NaN       NaN  0.0004       NaN       NaN        NaN   \n",
       "2012-02-29  0.188311  0.040589  0.0008  0.187511  0.039789   0.055149   \n",
       "2012-03-31  0.105284  0.031332  0.0005  0.104784  0.030832   0.043858   \n",
       "2012-04-30 -0.025970 -0.007497  0.0007 -0.026670 -0.008197  -0.005340   \n",
       "2012-05-31 -0.010702 -0.062651  0.0003 -0.011002 -0.062951  -0.074358   \n",
       "\n",
       "            RegressionResidual  SquaredResiduals  DeviationFromMean  \\\n",
       "Date                                                                  \n",
       "2012-01-31                 NaN               NaN                NaN   \n",
       "2012-02-29            0.132362          0.017520           0.172034   \n",
       "2012-03-31            0.060926          0.003712           0.089306   \n",
       "2012-04-30           -0.021330          0.000455          -0.042147   \n",
       "2012-05-31            0.063355          0.004014          -0.026480   \n",
       "\n",
       "            SquaredDeviation  \n",
       "Date                          \n",
       "2012-01-31               NaN  \n",
       "2012-02-29          0.029596  \n",
       "2012-03-31          0.007976  \n",
       "2012-04-30          0.001776  \n",
       "2012-05-31          0.000701  "
      ]
     },
     "execution_count": 174,
     "metadata": {},
     "output_type": "execute_result"
    }
   ],
   "source": [
    "df.head()"
   ]
  },
  {
   "cell_type": "code",
   "execution_count": 175,
   "metadata": {},
   "outputs": [
    {
     "data": {
      "text/plain": [
       "0.3578448099647086"
      ]
     },
     "execution_count": 175,
     "metadata": {},
     "output_type": "execute_result"
    }
   ],
   "source": [
    "total_var = df['SquaredDeviation'].sum()\n",
    "total_var"
   ]
  },
  {
   "cell_type": "code",
   "execution_count": 176,
   "metadata": {},
   "outputs": [
    {
     "data": {
      "text/plain": [
       "0.2734084533511089"
      ]
     },
     "execution_count": 176,
     "metadata": {},
     "output_type": "execute_result"
    }
   ],
   "source": [
    "unexplained_var = df['SquaredResiduals'].sum()\n",
    "unexplained_var"
   ]
  },
  {
   "cell_type": "code",
   "execution_count": 177,
   "metadata": {},
   "outputs": [
    {
     "data": {
      "text/plain": [
       "0.23595803058294168"
      ]
     },
     "execution_count": 177,
     "metadata": {},
     "output_type": "execute_result"
    }
   ],
   "source": [
    "r_2 = (total_var-unexplained_var)/total_var\n",
    "r_2"
   ]
  },
  {
   "cell_type": "markdown",
   "metadata": {},
   "source": [
    "# Hypothesis Testing"
   ]
  },
  {
   "cell_type": "markdown",
   "metadata": {},
   "source": [
    "$$(R-Rf) = b_0 + b_1 (Rm-Rf) + \\epsilon$$"
   ]
  },
  {
   "cell_type": "markdown",
   "metadata": {},
   "source": [
    "$$(R-Rf) = \\alpha + \\beta (Rm-Rf) + \\epsilon$$"
   ]
  },
  {
   "cell_type": "markdown",
   "metadata": {},
   "source": [
    "# Null & Alternative Hypothesis"
   ]
  },
  {
   "cell_type": "markdown",
   "metadata": {},
   "source": [
    "$$ H_0: \\beta=1 $$"
   ]
  },
  {
   "cell_type": "markdown",
   "metadata": {},
   "source": [
    "$$ H_a: \\beta\\neq1 $$"
   ]
  },
  {
   "cell_type": "markdown",
   "metadata": {},
   "source": [
    "# Confidence Interval Approach"
   ]
  },
  {
   "cell_type": "markdown",
   "metadata": {},
   "source": [
    "$$\\hat b_1 - t_c s_{\\hat b_1} \\  \\hat b_1 + t_c s_{\\hat b_1}$$"
   ]
  },
  {
   "cell_type": "markdown",
   "metadata": {},
   "source": [
    "$$ \\hat b_1 \\pm t_c s_{\\hat b_1} $$"
   ]
  },
  {
   "cell_type": "code",
   "execution_count": 178,
   "metadata": {},
   "outputs": [
    {
     "data": {
      "text/plain": [
       "const    0.004993\n",
       "Rm-Rf    1.260523\n",
       "dtype: float64"
      ]
     },
     "execution_count": 178,
     "metadata": {},
     "output_type": "execute_result"
    }
   ],
   "source": [
    "results.params"
   ]
  },
  {
   "cell_type": "code",
   "execution_count": 179,
   "metadata": {},
   "outputs": [
    {
     "data": {
      "text/plain": [
       "const    0.007808\n",
       "Rm-Rf    0.273066\n",
       "dtype: float64"
      ]
     },
     "execution_count": 179,
     "metadata": {},
     "output_type": "execute_result"
    }
   ],
   "source": [
    "results.bse"
   ]
  },
  {
   "cell_type": "code",
   "execution_count": 180,
   "metadata": {},
   "outputs": [
    {
     "data": {
      "text/plain": [
       "69"
      ]
     },
     "execution_count": 180,
     "metadata": {},
     "output_type": "execute_result"
    }
   ],
   "source": [
    "dof = 71 - 2\n",
    "dof"
   ]
  },
  {
   "cell_type": "code",
   "execution_count": 181,
   "metadata": {},
   "outputs": [
    {
     "data": {
      "text/plain": [
       "1.994945414632814"
      ]
     },
     "execution_count": 181,
     "metadata": {},
     "output_type": "execute_result"
    }
   ],
   "source": [
    "from scipy import stats\n",
    "t_c = stats.t.isf(0.025, dof)\n",
    "t_c"
   ]
  },
  {
   "cell_type": "code",
   "execution_count": 182,
   "metadata": {},
   "outputs": [
    {
     "data": {
      "text/plain": [
       "0.7157714839882254"
      ]
     },
     "execution_count": 182,
     "metadata": {},
     "output_type": "execute_result"
    }
   ],
   "source": [
    "results.params[1] - t_c*results.bse[1]"
   ]
  },
  {
   "cell_type": "code",
   "execution_count": 183,
   "metadata": {},
   "outputs": [
    {
     "data": {
      "text/plain": [
       "1.8052746261005528"
      ]
     },
     "execution_count": 183,
     "metadata": {},
     "output_type": "execute_result"
    }
   ],
   "source": [
    "results.params[1] + t_c*results.bse[1]"
   ]
  },
  {
   "cell_type": "markdown",
   "metadata": {},
   "source": [
    "# t-test of significance"
   ]
  },
  {
   "cell_type": "markdown",
   "metadata": {},
   "source": [
    "$$t = \\frac {\\hat b_1-b_1}{s_{\\hat b_1}}$$"
   ]
  },
  {
   "cell_type": "code",
   "execution_count": 184,
   "metadata": {},
   "outputs": [
    {
     "data": {
      "text/plain": [
       "0.9540665904997497"
      ]
     },
     "execution_count": 184,
     "metadata": {},
     "output_type": "execute_result"
    }
   ],
   "source": [
    "(results.params[1]-1.0)/results.bse[1]"
   ]
  },
  {
   "cell_type": "code",
   "execution_count": 185,
   "metadata": {},
   "outputs": [
    {
     "data": {
      "text/plain": [
       "4.616186207272982"
      ]
     },
     "execution_count": 185,
     "metadata": {},
     "output_type": "execute_result"
    }
   ],
   "source": [
    "(results.params[1]-0)/results.bse[1]"
   ]
  },
  {
   "cell_type": "code",
   "execution_count": null,
   "metadata": {},
   "outputs": [],
   "source": []
  },
  {
   "cell_type": "markdown",
   "metadata": {},
   "source": [
    "# Analysis of Variance (ANOVA)"
   ]
  },
  {
   "cell_type": "markdown",
   "metadata": {},
   "source": [
    "$$Sum \\ of \\ Squared \\ Errors \\ (SSE) = \\sum_{i=1}^n(Y_i - \\hat Y_i)^2$$\n"
   ]
  },
  {
   "cell_type": "markdown",
   "metadata": {},
   "source": [
    "$$Regression \\ Sum \\ of \\ Squares \\ (RSS) = \\sum_{i=1}^n(\\hat Y_i - \\bar Y_i)^2$$\n"
   ]
  },
  {
   "cell_type": "markdown",
   "metadata": {},
   "source": [
    "$$ (Y_i - \\bar Y_i) = (Y_i - \\hat Y_i) + (\\hat Y_i - \\bar Y_i)$$"
   ]
  },
  {
   "cell_type": "markdown",
   "metadata": {},
   "source": [
    "$$ TSS = SSE + RSS $$"
   ]
  },
  {
   "cell_type": "markdown",
   "metadata": {},
   "source": [
    "$$F = \\frac{RSS \\ / \\ k}{SSE \\ / \\ [n-(k+1)]} = \\frac{Mean \\ Regression \\ Sum \\ of \\ Squares}{Mean \\ Squared \\ Errors} = \\frac{MSR}{MSE}$$"
   ]
  },
  {
   "cell_type": "code",
   "execution_count": null,
   "metadata": {},
   "outputs": [],
   "source": []
  }
 ],
 "metadata": {
  "kernelspec": {
   "display_name": "Python 3",
   "language": "python",
   "name": "python3"
  },
  "language_info": {
   "codemirror_mode": {
    "name": "ipython",
    "version": 3
   },
   "file_extension": ".py",
   "mimetype": "text/x-python",
   "name": "python",
   "nbconvert_exporter": "python",
   "pygments_lexer": "ipython3",
   "version": "3.7.0"
  }
 },
 "nbformat": 4,
 "nbformat_minor": 2
}
