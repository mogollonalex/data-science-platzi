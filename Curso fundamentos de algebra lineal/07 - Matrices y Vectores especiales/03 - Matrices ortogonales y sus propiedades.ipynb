{
 "cells": [
  {
   "cell_type": "code",
   "execution_count": 1,
   "metadata": {},
   "outputs": [],
   "source": [
    "import numpy as np"
   ]
  },
  {
   "cell_type": "code",
   "execution_count": 2,
   "metadata": {},
   "outputs": [
    {
     "name": "stdout",
     "output_type": "stream",
     "text": [
      "[[1 0 0]\n",
      " [0 1 0]\n",
      " [0 0 1]]\n"
     ]
    }
   ],
   "source": [
    "matriz = np.array([[1,0,0],\n",
    "                   [0,1,0],\n",
    "                   [0,0,1]\n",
    "                  ])\n",
    "print(matriz)"
   ]
  },
  {
   "cell_type": "code",
   "execution_count": 3,
   "metadata": {},
   "outputs": [
    {
     "name": "stdout",
     "output_type": "stream",
     "text": [
      "0\n"
     ]
    }
   ],
   "source": [
    "print(matriz[:,0].dot(matriz[:,1]))"
   ]
  },
  {
   "cell_type": "code",
   "execution_count": 4,
   "metadata": {},
   "outputs": [
    {
     "name": "stdout",
     "output_type": "stream",
     "text": [
      "0\n"
     ]
    }
   ],
   "source": [
    "print(matriz[:,0].dot(matriz[:,2]))"
   ]
  },
  {
   "cell_type": "code",
   "execution_count": 5,
   "metadata": {},
   "outputs": [
    {
     "name": "stdout",
     "output_type": "stream",
     "text": [
      "0\n"
     ]
    }
   ],
   "source": [
    "print(matriz[:,1].dot(matriz[:,2]))"
   ]
  },
  {
   "cell_type": "code",
   "execution_count": 6,
   "metadata": {},
   "outputs": [
    {
     "name": "stdout",
     "output_type": "stream",
     "text": [
      "1.0\n",
      "1.0\n",
      "1.0\n"
     ]
    }
   ],
   "source": [
    "print(np.linalg.norm(matriz[:,0]))\n",
    "print(np.linalg.norm(matriz[:,1]))\n",
    "print(np.linalg.norm(matriz[:,2]))"
   ]
  },
  {
   "cell_type": "code",
   "execution_count": 7,
   "metadata": {},
   "outputs": [
    {
     "name": "stdout",
     "output_type": "stream",
     "text": [
      "0\n",
      "0\n",
      "0\n"
     ]
    }
   ],
   "source": [
    "print(matriz[0,:].dot(matriz[1,:]))\n",
    "print(matriz[0,:].dot(matriz[2,:]))\n",
    "print(matriz[1,:].dot(matriz[2,:]))"
   ]
  },
  {
   "cell_type": "code",
   "execution_count": 8,
   "metadata": {},
   "outputs": [
    {
     "name": "stdout",
     "output_type": "stream",
     "text": [
      "1.0\n",
      "1.0\n",
      "1.0\n"
     ]
    }
   ],
   "source": [
    "print(np.linalg.norm(matriz[0,:]))\n",
    "print(np.linalg.norm(matriz[1,:]))\n",
    "print(np.linalg.norm(matriz[2,:]))"
   ]
  },
  {
   "cell_type": "code",
   "execution_count": 9,
   "metadata": {},
   "outputs": [
    {
     "name": "stdout",
     "output_type": "stream",
     "text": [
      "[[ 0.86231887  0.50636564]\n",
      " [-0.50636564  0.86231887]]\n"
     ]
    }
   ],
   "source": [
    "A = np.array([[np.cos(100), -np.sin(100)],\n",
    "             [np.sin(100), np.cos(100)]])\n",
    "print(A)"
   ]
  },
  {
   "cell_type": "code",
   "execution_count": 10,
   "metadata": {},
   "outputs": [
    {
     "name": "stdout",
     "output_type": "stream",
     "text": [
      "0.9999999999999999\n",
      "0.9999999999999999\n",
      "0.9999999999999999\n",
      "0.9999999999999999\n"
     ]
    }
   ],
   "source": [
    "print(np.linalg.norm(A[0,:]))\n",
    "print(np.linalg.norm(A[1,:]))\n",
    "print(np.linalg.norm(A[:,0]))\n",
    "print(np.linalg.norm(A[:,1]))"
   ]
  },
  {
   "cell_type": "code",
   "execution_count": 11,
   "metadata": {},
   "outputs": [
    {
     "name": "stdout",
     "output_type": "stream",
     "text": [
      "0.0\n",
      "0.0\n"
     ]
    }
   ],
   "source": [
    "print(A[0,:].dot(A[1,:]))\n",
    "print(A[:,0].dot(A[:,1]))"
   ]
  },
  {
   "cell_type": "code",
   "execution_count": 12,
   "metadata": {},
   "outputs": [
    {
     "name": "stdout",
     "output_type": "stream",
     "text": [
      "[[ 1.00000000e+00 -7.93771519e-18]\n",
      " [-7.93771519e-18  1.00000000e+00]]\n",
      "[[1.00000000e+00 7.93771519e-18]\n",
      " [7.93771519e-18 1.00000000e+00]]\n"
     ]
    }
   ],
   "source": [
    "A_t = A.T\n",
    "print(A_t.dot(A))\n",
    "print(A.dot(A_t))"
   ]
  },
  {
   "cell_type": "code",
   "execution_count": 13,
   "metadata": {},
   "outputs": [
    {
     "name": "stdout",
     "output_type": "stream",
     "text": [
      "[[ 0.86231887 -0.50636564]\n",
      " [ 0.50636564  0.86231887]]\n"
     ]
    }
   ],
   "source": [
    "A_inv = np.linalg.inv(A)\n",
    "print(A_inv)"
   ]
  },
  {
   "cell_type": "code",
   "execution_count": 14,
   "metadata": {},
   "outputs": [
    {
     "name": "stdout",
     "output_type": "stream",
     "text": [
      "[[ 0.86231887 -0.50636564]\n",
      " [ 0.50636564  0.86231887]]\n"
     ]
    }
   ],
   "source": [
    "print(A_t)"
   ]
  },
  {
   "cell_type": "code",
   "execution_count": 15,
   "metadata": {},
   "outputs": [
    {
     "name": "stdout",
     "output_type": "stream",
     "text": [
      "[[ 1.00000000e+00 -1.25980837e+17]\n",
      " [-1.25980837e+17  1.00000000e+00]]\n"
     ]
    }
   ],
   "source": [
    "print(1/A_t.dot(A))"
   ]
  },
  {
   "cell_type": "code",
   "execution_count": null,
   "metadata": {},
   "outputs": [],
   "source": []
  }
 ],
 "metadata": {
  "kernelspec": {
   "display_name": "Python 3",
   "language": "python",
   "name": "python3"
  },
  "language_info": {
   "codemirror_mode": {
    "name": "ipython",
    "version": 3
   },
   "file_extension": ".py",
   "mimetype": "text/x-python",
   "name": "python",
   "nbconvert_exporter": "python",
   "pygments_lexer": "ipython3",
   "version": "3.7.4"
  }
 },
 "nbformat": 4,
 "nbformat_minor": 2
}
